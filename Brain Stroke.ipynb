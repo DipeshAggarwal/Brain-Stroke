{
 "cells": [
  {
   "cell_type": "markdown",
   "id": "d5b5f68f",
   "metadata": {},
   "source": [
    "## Handle Imports"
   ]
  },
  {
   "cell_type": "code",
   "execution_count": 122,
   "id": "798bf21d",
   "metadata": {},
   "outputs": [],
   "source": [
    "from tensorflow.keras.preprocessing.image import ImageDataGenerator\n",
    "from tensorflow.keras.utils import Sequence\n",
    "from sklearn.model_selection import train_test_split\n",
    "\n",
    "from tensorflow.keras import Model, Input\n",
    "from tensorflow.keras.layers import Dense, Flatten, Concatenate, Dropout\n",
    "\n",
    "import tensorflow.keras.backend as K\n",
    "import matplotlib.pyplot as plt\n",
    "import tensorflow as tf\n",
    "import pandas as pd\n",
    "import numpy as np\n",
    "import random\n",
    "import pydicom\n",
    "import glob\n",
    "import os"
   ]
  },
  {
   "cell_type": "markdown",
   "id": "ce93223e",
   "metadata": {},
   "source": [
    "## Config Variables"
   ]
  },
  {
   "cell_type": "code",
   "execution_count": 123,
   "id": "583a68b1",
   "metadata": {},
   "outputs": [],
   "source": [
    "BASE_IMG_DIR = \"data/\"\n",
    "\n",
    "EPOCHS = 50\n",
    "BATCH_SIZE = 32\n",
    "IMG_SIZE = 192\n",
    "LR = 1e-3\n",
    "\n",
    "RANDOM_SEED = 42\n",
    "\n",
    "TEST_SPLIT = 0.2"
   ]
  },
  {
   "cell_type": "code",
   "execution_count": 124,
   "id": "0b7ec46c",
   "metadata": {},
   "outputs": [],
   "source": [
    "def info(msg):\n",
    "    print(f\"[INFO] {msg}\\n\")\n",
    "    \n",
    "def f1_score(y_true, y_pred):\n",
    "\n",
    "    # Count positive samples.\n",
    "    c1 = K.sum(K.round(K.clip(y_true * y_pred, 0, 1)))\n",
    "    c2 = K.sum(K.round(K.clip(y_pred, 0, 1)))\n",
    "    c3 = K.sum(K.round(K.clip(y_true, 0, 1)))\n",
    "\n",
    "    # If there are no true samples, fix the F1 score at 0.\n",
    "    if c3 == 0:\n",
    "        return 0.0\n",
    "\n",
    "    # How many selected items are relevant?\n",
    "    precision = c1 / c2\n",
    "\n",
    "    # How many relevant items are selected?\n",
    "    recall = c1 / c3\n",
    "\n",
    "    # Calculate f1_score\n",
    "    f1_score = 2 * (precision * recall) / (precision + recall)\n",
    "    return f1_score"
   ]
  },
  {
   "cell_type": "code",
   "execution_count": 125,
   "id": "446adea6",
   "metadata": {},
   "outputs": [],
   "source": [
    "df = pd.read_excel(\"Stroke _DCM _Train_Labels.xlsx\")"
   ]
  },
  {
   "cell_type": "markdown",
   "id": "4d9adbad",
   "metadata": {},
   "source": [
    "## Remove unneeded rows and rename columns"
   ]
  },
  {
   "cell_type": "code",
   "execution_count": 126,
   "id": "46bf8b04",
   "metadata": {},
   "outputs": [],
   "source": [
    "# Drop second row and last row\n",
    "df.drop(index=df.index[-1], axis=0, inplace=True)\n",
    "df.drop(index=df.index[0], axis=0, inplace=True)"
   ]
  },
  {
   "cell_type": "code",
   "execution_count": 127,
   "id": "c666137c",
   "metadata": {},
   "outputs": [],
   "source": [
    "df.rename(columns = {'SERIES': \"Positive\", \"Unnamed: 4\": \"TP\", \"Unnamed: 5\": \"Negative\"}, inplace = True)"
   ]
  },
  {
   "cell_type": "code",
   "execution_count": 128,
   "id": "86a5134a",
   "metadata": {},
   "outputs": [
    {
     "data": {
      "text/html": [
       "<div>\n",
       "<style scoped>\n",
       "    .dataframe tbody tr th:only-of-type {\n",
       "        vertical-align: middle;\n",
       "    }\n",
       "\n",
       "    .dataframe tbody tr th {\n",
       "        vertical-align: top;\n",
       "    }\n",
       "\n",
       "    .dataframe thead th {\n",
       "        text-align: right;\n",
       "    }\n",
       "</style>\n",
       "<table border=\"1\" class=\"dataframe\">\n",
       "  <thead>\n",
       "    <tr style=\"text-align: right;\">\n",
       "      <th></th>\n",
       "      <th>ID</th>\n",
       "      <th>IMAGE NAME</th>\n",
       "      <th>IMAGE COUNT</th>\n",
       "      <th>Positive</th>\n",
       "      <th>TP</th>\n",
       "      <th>Negative</th>\n",
       "    </tr>\n",
       "  </thead>\n",
       "  <tbody>\n",
       "    <tr>\n",
       "      <th>1</th>\n",
       "      <td>1</td>\n",
       "      <td>STP21</td>\n",
       "      <td>50.0</td>\n",
       "      <td>26 to 44</td>\n",
       "      <td>19</td>\n",
       "      <td>31</td>\n",
       "    </tr>\n",
       "    <tr>\n",
       "      <th>2</th>\n",
       "      <td>2</td>\n",
       "      <td>STP22</td>\n",
       "      <td>50.0</td>\n",
       "      <td>26 to 46</td>\n",
       "      <td>21</td>\n",
       "      <td>29</td>\n",
       "    </tr>\n",
       "    <tr>\n",
       "      <th>3</th>\n",
       "      <td>3</td>\n",
       "      <td>STP23</td>\n",
       "      <td>50.0</td>\n",
       "      <td>26 to 42</td>\n",
       "      <td>17</td>\n",
       "      <td>33</td>\n",
       "    </tr>\n",
       "    <tr>\n",
       "      <th>4</th>\n",
       "      <td>4</td>\n",
       "      <td>STP24</td>\n",
       "      <td>50.0</td>\n",
       "      <td>26 to 46</td>\n",
       "      <td>21</td>\n",
       "      <td>29</td>\n",
       "    </tr>\n",
       "    <tr>\n",
       "      <th>5</th>\n",
       "      <td>5</td>\n",
       "      <td>STP25</td>\n",
       "      <td>50.0</td>\n",
       "      <td>26 to 45</td>\n",
       "      <td>20</td>\n",
       "      <td>30</td>\n",
       "    </tr>\n",
       "  </tbody>\n",
       "</table>\n",
       "</div>"
      ],
      "text/plain": [
       "  ID IMAGE NAME  IMAGE COUNT  Positive  TP Negative\n",
       "1  1      STP21         50.0  26 to 44  19       31\n",
       "2  2      STP22         50.0  26 to 46  21       29\n",
       "3  3      STP23         50.0  26 to 42  17       33\n",
       "4  4      STP24         50.0  26 to 46  21       29\n",
       "5  5      STP25         50.0  26 to 45  20       30"
      ]
     },
     "execution_count": 128,
     "metadata": {},
     "output_type": "execute_result"
    }
   ],
   "source": [
    "df.head()"
   ]
  },
  {
   "cell_type": "markdown",
   "id": "1f71de5e",
   "metadata": {},
   "source": [
    "## Create functions to generate image ranges for the data frame"
   ]
  },
  {
   "cell_type": "code",
   "execution_count": 129,
   "id": "43b46ee3",
   "metadata": {},
   "outputs": [],
   "source": [
    "def resolve_to_range(txt):\n",
    "    txt = txt.split(\",\")\n",
    "    _l = []\n",
    "    \n",
    "    for i in txt:\n",
    "        a, b = [int(v) for v in i.split(\"to\")]\n",
    "        \n",
    "        for j in range(a, b+1):\n",
    "            _l.append(j)\n",
    "            \n",
    "    return _l"
   ]
  },
  {
   "cell_type": "markdown",
   "id": "62d4d61a",
   "metadata": {},
   "source": [
    "## Convert Positive column to have individual positive numbers"
   ]
  },
  {
   "cell_type": "code",
   "execution_count": 130,
   "id": "5894909c",
   "metadata": {},
   "outputs": [
    {
     "data": {
      "text/html": [
       "<div>\n",
       "<style scoped>\n",
       "    .dataframe tbody tr th:only-of-type {\n",
       "        vertical-align: middle;\n",
       "    }\n",
       "\n",
       "    .dataframe tbody tr th {\n",
       "        vertical-align: top;\n",
       "    }\n",
       "\n",
       "    .dataframe thead th {\n",
       "        text-align: right;\n",
       "    }\n",
       "</style>\n",
       "<table border=\"1\" class=\"dataframe\">\n",
       "  <thead>\n",
       "    <tr style=\"text-align: right;\">\n",
       "      <th></th>\n",
       "      <th>ID</th>\n",
       "      <th>IMAGE NAME</th>\n",
       "      <th>IMAGE COUNT</th>\n",
       "      <th>Positive</th>\n",
       "      <th>TP</th>\n",
       "      <th>Negative</th>\n",
       "    </tr>\n",
       "  </thead>\n",
       "  <tbody>\n",
       "    <tr>\n",
       "      <th>1</th>\n",
       "      <td>1</td>\n",
       "      <td>STP21</td>\n",
       "      <td>50.0</td>\n",
       "      <td>[26, 27, 28, 29, 30, 31, 32, 33, 34, 35, 36, 3...</td>\n",
       "      <td>19</td>\n",
       "      <td>31</td>\n",
       "    </tr>\n",
       "    <tr>\n",
       "      <th>2</th>\n",
       "      <td>2</td>\n",
       "      <td>STP22</td>\n",
       "      <td>50.0</td>\n",
       "      <td>[26, 27, 28, 29, 30, 31, 32, 33, 34, 35, 36, 3...</td>\n",
       "      <td>21</td>\n",
       "      <td>29</td>\n",
       "    </tr>\n",
       "    <tr>\n",
       "      <th>3</th>\n",
       "      <td>3</td>\n",
       "      <td>STP23</td>\n",
       "      <td>50.0</td>\n",
       "      <td>[26, 27, 28, 29, 30, 31, 32, 33, 34, 35, 36, 3...</td>\n",
       "      <td>17</td>\n",
       "      <td>33</td>\n",
       "    </tr>\n",
       "    <tr>\n",
       "      <th>4</th>\n",
       "      <td>4</td>\n",
       "      <td>STP24</td>\n",
       "      <td>50.0</td>\n",
       "      <td>[26, 27, 28, 29, 30, 31, 32, 33, 34, 35, 36, 3...</td>\n",
       "      <td>21</td>\n",
       "      <td>29</td>\n",
       "    </tr>\n",
       "    <tr>\n",
       "      <th>5</th>\n",
       "      <td>5</td>\n",
       "      <td>STP25</td>\n",
       "      <td>50.0</td>\n",
       "      <td>[26, 27, 28, 29, 30, 31, 32, 33, 34, 35, 36, 3...</td>\n",
       "      <td>20</td>\n",
       "      <td>30</td>\n",
       "    </tr>\n",
       "  </tbody>\n",
       "</table>\n",
       "</div>"
      ],
      "text/plain": [
       "  ID IMAGE NAME  IMAGE COUNT  \\\n",
       "1  1      STP21         50.0   \n",
       "2  2      STP22         50.0   \n",
       "3  3      STP23         50.0   \n",
       "4  4      STP24         50.0   \n",
       "5  5      STP25         50.0   \n",
       "\n",
       "                                            Positive  TP Negative  \n",
       "1  [26, 27, 28, 29, 30, 31, 32, 33, 34, 35, 36, 3...  19       31  \n",
       "2  [26, 27, 28, 29, 30, 31, 32, 33, 34, 35, 36, 3...  21       29  \n",
       "3  [26, 27, 28, 29, 30, 31, 32, 33, 34, 35, 36, 3...  17       33  \n",
       "4  [26, 27, 28, 29, 30, 31, 32, 33, 34, 35, 36, 3...  21       29  \n",
       "5  [26, 27, 28, 29, 30, 31, 32, 33, 34, 35, 36, 3...  20       30  "
      ]
     },
     "execution_count": 130,
     "metadata": {},
     "output_type": "execute_result"
    }
   ],
   "source": [
    "df.Positive = df.Positive.apply(resolve_to_range)\n",
    "df.head()"
   ]
  },
  {
   "cell_type": "markdown",
   "id": "5e84cb1f",
   "metadata": {},
   "source": [
    "## Create new DataFrame holding the ImageWise Data"
   ]
  },
  {
   "cell_type": "code",
   "execution_count": 131,
   "id": "f8c76774",
   "metadata": {},
   "outputs": [
    {
     "name": "stdout",
     "output_type": "stream",
     "text": [
      "[INFO] Total No. of Positive Samples: 2108\n",
      "\n",
      "[INFO] Total No. of Negative Samples: 3192\n",
      "\n"
     ]
    }
   ],
   "source": [
    "dataset = {\"Images\": [], \"Tumour\": []}\n",
    "\n",
    "for i in range(1, df.shape[0]+1):\n",
    "    fn = df[\"IMAGE NAME\"][i]\n",
    "    pos_l = df.Positive[i]\n",
    "    \n",
    "    files = os.listdir(BASE_IMG_DIR + fn)\n",
    "    files.remove(\"studyXml.xml\")\n",
    "    \n",
    "    for index, f in enumerate(files):\n",
    "        dataset[\"Images\"].append(f\"{BASE_IMG_DIR}{fn}/{f}\")\n",
    "        if index in pos_l:\n",
    "            dataset[\"Tumour\"].append(1)\n",
    "        else:\n",
    "            dataset[\"Tumour\"].append(0)\n",
    "\n",
    "info(\"Total No. of Positive Samples: \" + str(dataset[\"Tumour\"].count(1)))\n",
    "info(\"Total No. of Negative Samples: \" + str(dataset[\"Tumour\"].count(0)))"
   ]
  },
  {
   "cell_type": "markdown",
   "id": "0aa9caf0",
   "metadata": {},
   "source": [
    "## Load the cleaned data into a new DataFrame"
   ]
  },
  {
   "cell_type": "code",
   "execution_count": 132,
   "id": "75870f61",
   "metadata": {},
   "outputs": [
    {
     "data": {
      "text/html": [
       "<div>\n",
       "<style scoped>\n",
       "    .dataframe tbody tr th:only-of-type {\n",
       "        vertical-align: middle;\n",
       "    }\n",
       "\n",
       "    .dataframe tbody tr th {\n",
       "        vertical-align: top;\n",
       "    }\n",
       "\n",
       "    .dataframe thead th {\n",
       "        text-align: right;\n",
       "    }\n",
       "</style>\n",
       "<table border=\"1\" class=\"dataframe\">\n",
       "  <thead>\n",
       "    <tr style=\"text-align: right;\">\n",
       "      <th></th>\n",
       "      <th>Images</th>\n",
       "      <th>Tumour</th>\n",
       "    </tr>\n",
       "  </thead>\n",
       "  <tbody>\n",
       "    <tr>\n",
       "      <th>0</th>\n",
       "      <td>data/STP21/1.3.6.1.4.1.25403.52231602114.14040...</td>\n",
       "      <td>0</td>\n",
       "    </tr>\n",
       "    <tr>\n",
       "      <th>1</th>\n",
       "      <td>data/STP21/1.3.6.1.4.1.25403.52231602114.14040...</td>\n",
       "      <td>0</td>\n",
       "    </tr>\n",
       "    <tr>\n",
       "      <th>2</th>\n",
       "      <td>data/STP21/1.3.6.1.4.1.25403.52231602114.14040...</td>\n",
       "      <td>0</td>\n",
       "    </tr>\n",
       "    <tr>\n",
       "      <th>3</th>\n",
       "      <td>data/STP21/1.3.6.1.4.1.25403.52231602114.14040...</td>\n",
       "      <td>0</td>\n",
       "    </tr>\n",
       "    <tr>\n",
       "      <th>4</th>\n",
       "      <td>data/STP21/1.3.6.1.4.1.25403.52231602114.14040...</td>\n",
       "      <td>0</td>\n",
       "    </tr>\n",
       "  </tbody>\n",
       "</table>\n",
       "</div>"
      ],
      "text/plain": [
       "                                              Images  Tumour\n",
       "0  data/STP21/1.3.6.1.4.1.25403.52231602114.14040...       0\n",
       "1  data/STP21/1.3.6.1.4.1.25403.52231602114.14040...       0\n",
       "2  data/STP21/1.3.6.1.4.1.25403.52231602114.14040...       0\n",
       "3  data/STP21/1.3.6.1.4.1.25403.52231602114.14040...       0\n",
       "4  data/STP21/1.3.6.1.4.1.25403.52231602114.14040...       0"
      ]
     },
     "execution_count": 132,
     "metadata": {},
     "output_type": "execute_result"
    }
   ],
   "source": [
    "data_df = pd.DataFrame(dataset)\n",
    "data_df.head()"
   ]
  },
  {
   "cell_type": "markdown",
   "id": "c2270e8b",
   "metadata": {},
   "source": [
    "## Load the images and convert them into a Numpy array"
   ]
  },
  {
   "cell_type": "code",
   "execution_count": 133,
   "id": "fff77a42",
   "metadata": {},
   "outputs": [],
   "source": [
    "image_data = []\n",
    "target = np.array(data_df.Tumour)"
   ]
  },
  {
   "cell_type": "code",
   "execution_count": null,
   "id": "42d08569",
   "metadata": {},
   "outputs": [],
   "source": [
    "for fn in data_df.Images:\n",
    "    image = pydicom.read_file(fn).pixel_array\n",
    "    \n",
    "    # Normalise the Image values between 0.0 and 1.0\n",
    "    image = image - np.min(image)\n",
    "    image = image / np.max(image)\n",
    "    image = image.reshape(image.shape[0], image.shape[1], 1)\n",
    "    image = tf.image.resize(image, (IMG_SIZE, IMG_SIZE))\n",
    "    \n",
    "    image_data.append(image)\n",
    "    \n",
    "image_data = np.array(image_data)"
   ]
  },
  {
   "cell_type": "markdown",
   "id": "5ce1b5ec",
   "metadata": {},
   "source": [
    "## Plot random images"
   ]
  },
  {
   "cell_type": "code",
   "execution_count": null,
   "id": "a1aa724b",
   "metadata": {},
   "outputs": [],
   "source": [
    "random_indexes = random.sample(range(len(image_data)), k=6)\n",
    "\n",
    "fig, axs = plt.subplots(2, 3, figsize=(9, 6))\n",
    "\n",
    "for (idx, c_ax) in zip(random_indexes, axs.flatten()):\n",
    "    c_ax.imshow(image_data[idx], cmap=\"gray\")\n",
    "    if target[idx] == 1:\n",
    "        title = \"Tumour Present\"\n",
    "    else:\n",
    "        title = \"Tumour Not Present\"\n",
    "    c_ax.set_title(title)\n",
    "    c_ax.axis(\"off\")"
   ]
  },
  {
   "cell_type": "code",
   "execution_count": null,
   "id": "ff4ab964",
   "metadata": {},
   "outputs": [],
   "source": [
    "X_train, X_test, y_train, y_test = train_test_split(image_data, target,\n",
    "                                                    test_size=TEST_SPLIT,\n",
    "                                                    random_state=RANDOM_SEED,\n",
    "                                                    shuffle=True,\n",
    "                                                    stratify=target)"
   ]
  },
  {
   "cell_type": "markdown",
   "id": "8e537fa7",
   "metadata": {},
   "source": [
    "## Create Data Augumentation"
   ]
  },
  {
   "cell_type": "code",
   "execution_count": null,
   "id": "6be4d3e1",
   "metadata": {},
   "outputs": [],
   "source": [
    "train_aug = ImageDataGenerator(rotation_range=10,\n",
    "                               width_shift_range=0.1,\n",
    "                               height_shift_range=0.1,\n",
    "                               shear_range=0.1,\n",
    "                               zoom_range=0.1,\n",
    "                               horizontal_flip=True,\n",
    "                               fill_mode='nearest')\n",
    "\n",
    "test_aug = ImageDataGenerator()\n",
    "\n",
    "train_gen = train_aug.flow(X_train, y_train, batch_size=BATCH_SIZE)\n",
    "test_gen = test_aug.flow(X_test, y_test, batch_size=BATCH_SIZE)\n",
    "\n",
    "training_steps_per_epoch = train_gen.n // BATCH_SIZE\n",
    "test_steps_per_epoch = test_gen.n // BATCH_SIZE\n",
    "\n",
    "info(f\"Training Steps per Epoch: {training_steps_per_epoch}\")\n",
    "info(f\"Test Steps per Epoch: {test_steps_per_epoch}\")"
   ]
  },
  {
   "cell_type": "markdown",
   "id": "28f366b0",
   "metadata": {},
   "source": [
    "## Initialise the model"
   ]
  },
  {
   "cell_type": "code",
   "execution_count": null,
   "id": "6301d721",
   "metadata": {},
   "outputs": [],
   "source": [
    "resnet_model = tf.keras.applications.resnet_v2.ResNet101V2(weights=None,\n",
    "                                                           include_top=False,\n",
    "                                                           input_tensor=Input(shape=(IMG_SIZE, IMG_SIZE, 1)))\n",
    "\n",
    "flatten = resnet_model.output\n",
    "flatten = Flatten()(flatten)\n",
    "dense = Dense(128, activation=\"relu\")(flatten)\n",
    "dropout = Dropout(0.2)(dense)\n",
    "dense = Dense(64, activation=\"relu\")(dropout)\n",
    "dropout = Dropout(0.2)(dense)\n",
    "dense = Dense(32, activation=\"relu\")(dropout)\n",
    "dropout = Dropout(0.2)(dense)\n",
    "dense = Dense(32, activation=\"relu\")(dropout)\n",
    "dropout = Dropout(0.2)(dense)\n",
    "dense = Dense(16, activation=\"relu\")(dropout)\n",
    "prediction_layer = Dense(1, activation=\"sigmoid\")(dense)\n",
    "model = Model(inputs=resnet_model.input, outputs=prediction_layer)\n",
    "\n",
    "model.summary()"
   ]
  },
  {
   "cell_type": "code",
   "execution_count": null,
   "id": "15ea1ef6",
   "metadata": {},
   "outputs": [],
   "source": [
    "model.compile(optimizer=tf.keras.optimizers.Adam(learning_rate=LR),\n",
    "              metrics=[f1_score, \"accuracy\"],\n",
    "              loss=\"binary_crossentropy\")"
   ]
  },
  {
   "cell_type": "code",
   "execution_count": null,
   "id": "0c100bea",
   "metadata": {},
   "outputs": [],
   "source": [
    "save_best = tf.keras.callbacks.ModelCheckpoint(f\"model_brainstroke.h5\",\n",
    "                                               monitor=\"val_loss\",\n",
    "                                               mode=\"min\",\n",
    "                                               save_best_only=True,\n",
    "                                               verbose=1)\n",
    "early_stopping = tf.keras.callbacks.EarlyStopping(monitor=\"val_loss\",\n",
    "                                                  mode=\"min\",\n",
    "                                                 patience=10)"
   ]
  },
  {
   "cell_type": "code",
   "execution_count": null,
   "id": "12817790",
   "metadata": {},
   "outputs": [],
   "source": [
    "tf.debugging.disable_traceback_filtering()\n",
    "history = model.fit(train_gen,\n",
    "          steps_per_epoch=training_steps_per_epoch,\n",
    "          validation_data=test_gen,\n",
    "          validation_steps=test_steps_per_epoch,\n",
    "          epochs=EPOCHS,\n",
    "          callbacks=[save_best, early_stopping])"
   ]
  }
 ],
 "metadata": {
  "kernelspec": {
   "display_name": "Python 3 (ipykernel)",
   "language": "python",
   "name": "python3"
  },
  "language_info": {
   "codemirror_mode": {
    "name": "ipython",
    "version": 3
   },
   "file_extension": ".py",
   "mimetype": "text/x-python",
   "name": "python",
   "nbconvert_exporter": "python",
   "pygments_lexer": "ipython3",
   "version": "3.10.8"
  }
 },
 "nbformat": 4,
 "nbformat_minor": 5
}
